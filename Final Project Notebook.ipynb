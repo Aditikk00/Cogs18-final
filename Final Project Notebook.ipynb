{
 "cells": [
  {
   "cell_type": "markdown",
   "metadata": {},
   "source": [
    "# Project Description"
   ]
  },
  {
   "cell_type": "markdown",
   "metadata": {},
   "source": [
    "COVID-19 has had major impacts on our mental health. I decided to create a chatbot for my final COGS18 project which would act as a 'pre-appointment' survey. Essentially, it asks mental health related questions (based partially on the Kesseler Psychological Test K6 https://www.ncbi.nlm.nih.gov/pmc/articles/PMC3370145/) and collects the response from participants. The responses are then added to a DataFrame which a psychologist/therapist could quickly review before meeting their patient. This would help make things much more efficient and allow the counsellor to gauge the patient and tune their meeting accordingly.\n",
    "\n",
    "The survey is targeted towards students and asks questions about their year and whether they live on campus or in another timezone as these are additional factors that impact mental health during COVID-19. The database is not visible to the participants (for privacy reasons) however is visible in this notebook for presentation purposes.\n",
    "\n",
    "__Note:__\n",
    "If user answers 0 = 'None of the time' for all of the Kesseler Questions, further questions are not required so the chatbot will end earlier and store 'None' for the remaining questions in the database. If you want to test a full run through, don't enter 0 for all the questions. If you want to test whether the chatbot ends earlier like it's supposed to, enter 0 for all the questions.\n",
    "\n",
    "This project is an extension to the A3 Chatbot assignment from COGS18"
   ]
  },
  {
   "cell_type": "markdown",
   "metadata": {},
   "source": [
    "## Project Code\n",
    "\n",
    "If it makes sense for your project, you can have code and outputs here in the notebook as well."
   ]
  },
  {
   "cell_type": "code",
   "execution_count": 1,
   "metadata": {
    "scrolled": true
   },
   "outputs": [
    {
     "name": "stderr",
     "output_type": "stream",
     "text": [
      "[nltk_data] Downloading package punkt to\n",
      "[nltk_data]     /Users/aditikumar/nltk_data...\n",
      "[nltk_data]   Package punkt is already up-to-date!\n"
     ]
    }
   ],
   "source": [
    "from chatbot_functions import *"
   ]
  },
  {
   "cell_type": "code",
   "execution_count": 2,
   "metadata": {},
   "outputs": [
    {
     "name": "stdout",
     "output_type": "stream",
     "text": [
      "Welcome to the COVID-19 Psychological Services chatbot. \n",
      "The COVID-19 pandemic has brought a number of challenges to both our physical and mental health.\n",
      "We understand that as students, this can be an even more stressful time. \n",
      "Thank you for visiting us. Please have a chat with our chatbot \n",
      "in order for us to collect the required information before your meeting with our psychologist \n",
      "\n",
      "Type 'quit' if you would like to exit at any time\n",
      "\n",
      "\n",
      "Please enter your first and last name\n",
      "Type Here: barbie girl\n",
      "Hi Barbie! How are you feeling today?\n",
      "Type Here: stressed\n",
      "I hope we can help\n",
      "What year are you at UCSD?\n",
      "Type Here: senior\n",
      "senior year is my favorite!\n",
      "Please enter the city and country you are in currently\n",
      "Type Here: sydney, australia\n",
      "Hi from San Diego!. Please type 'Yes' to continue\n",
      "Type Here: yes\n",
      "We will now be using the Kesseler Psychological Distress scale (K6) to ask a few questions\n",
      "For more information, visit: https://www.ncbi.nlm.nih.gov/pmc/articles/PMC3370145/\n",
      "\n",
      "0 = None of the time \n",
      "1 = A little of the time \n",
      "2 = Some of the time\n",
      "3 = Most of the time\n",
      "4 = All of the time\n",
      "\n",
      "During the past 30 days, how often did you feel nervous?\n",
      "Type Here: 2\n",
      "During the past 30 days, how often did you feel hopeless?\n",
      "Type Here: 1\n",
      "During the past 30 days, how often did you feel restless or fidgety?\n",
      "Type Here: 1\n",
      "During the past 30 days, how often did you feel so depressed that nothing could cheer you up?\n",
      "Type Here: 1\n",
      "During the past 30 days, how often did you feel that everything was an effort?\n",
      "Type Here: 1\n",
      "During the past 30 days, how often did you feel worthless?\n",
      "Type Here: 1\n",
      "Did the feelings mentioned above occur 'More Often', 'About the same', or 'Less often' during COVID-19\n",
      "Type Here: 1\n",
      "We hope this session helps you\n",
      "Type 'Yes' to move on\n",
      "Type Here: yes\n",
      "During the past 30 days, how many days out of 30 were you totally unable to work or carry out your normal activities because of these feelings?\n",
      "Type Here: 2\n",
      "Not counting the days you reported in response previously, how many days in the past 30 were you able to do only half or less of what you would normally have been able to do, because of these feelings?\n",
      "Type Here: 0\n",
      "What is the reason for your visit today?\n",
      "Type Here: covid\n",
      "Thank you for your time. A representative will be in contact soon\n"
     ]
    }
   ],
   "source": [
    "# Main chatbot function\n",
    "\n",
    "lets_talk()"
   ]
  },
  {
   "cell_type": "markdown",
   "metadata": {},
   "source": [
    "### A Preview of the DataFrame \n",
    "- Can be accessed through the directory too"
   ]
  },
  {
   "cell_type": "code",
   "execution_count": 3,
   "metadata": {
    "scrolled": true
   },
   "outputs": [
    {
     "data": {
      "text/html": [
       "<div>\n",
       "<style scoped>\n",
       "    .dataframe tbody tr th:only-of-type {\n",
       "        vertical-align: middle;\n",
       "    }\n",
       "\n",
       "    .dataframe tbody tr th {\n",
       "        vertical-align: top;\n",
       "    }\n",
       "\n",
       "    .dataframe thead th {\n",
       "        text-align: right;\n",
       "    }\n",
       "</style>\n",
       "<table border=\"1\" class=\"dataframe\">\n",
       "  <thead>\n",
       "    <tr style=\"text-align: right;\">\n",
       "      <th></th>\n",
       "      <th>First Name</th>\n",
       "      <th>Last Name</th>\n",
       "      <th>Grade/Year</th>\n",
       "      <th>Location</th>\n",
       "      <th>Nervous</th>\n",
       "      <th>Hopeless</th>\n",
       "      <th>Restless</th>\n",
       "      <th>Depressed</th>\n",
       "      <th>Effort</th>\n",
       "      <th>Worthless</th>\n",
       "      <th>K6_Score</th>\n",
       "      <th>Pre-COVID</th>\n",
       "      <th>Unable to work</th>\n",
       "      <th>Half capacity</th>\n",
       "      <th>Reason for visit</th>\n",
       "    </tr>\n",
       "  </thead>\n",
       "  <tbody>\n",
       "    <tr>\n",
       "      <th>0</th>\n",
       "      <td>t e s t</td>\n",
       "      <td>r u n</td>\n",
       "      <td>f i r s t</td>\n",
       "      <td>san diego la jolla</td>\n",
       "      <td>1</td>\n",
       "      <td>2</td>\n",
       "      <td>1</td>\n",
       "      <td>2</td>\n",
       "      <td>1</td>\n",
       "      <td>2</td>\n",
       "      <td>9</td>\n",
       "      <td>less often</td>\n",
       "      <td>2</td>\n",
       "      <td>1</td>\n",
       "      <td>test</td>\n",
       "    </tr>\n",
       "    <tr>\n",
       "      <th>1</th>\n",
       "      <td>a d i t i</td>\n",
       "      <td>k k</td>\n",
       "      <td>s o p h o m o r e</td>\n",
       "      <td>portland usa</td>\n",
       "      <td>0</td>\n",
       "      <td>0</td>\n",
       "      <td>0</td>\n",
       "      <td>0</td>\n",
       "      <td>0</td>\n",
       "      <td>0</td>\n",
       "      <td>0</td>\n",
       "      <td>about the same</td>\n",
       "      <td>None</td>\n",
       "      <td>None</td>\n",
       "      <td>None</td>\n",
       "    </tr>\n",
       "    <tr>\n",
       "      <th>2</th>\n",
       "      <td>b a r b i e</td>\n",
       "      <td>g i r l</td>\n",
       "      <td>s e n i o r</td>\n",
       "      <td>sydney australia</td>\n",
       "      <td>2</td>\n",
       "      <td>1</td>\n",
       "      <td>1</td>\n",
       "      <td>1</td>\n",
       "      <td>1</td>\n",
       "      <td>1</td>\n",
       "      <td>7</td>\n",
       "      <td>1</td>\n",
       "      <td>2</td>\n",
       "      <td>0</td>\n",
       "      <td>covid</td>\n",
       "    </tr>\n",
       "  </tbody>\n",
       "</table>\n",
       "</div>"
      ],
      "text/plain": [
       "    First Name Last Name         Grade/Year            Location  Nervous  \\\n",
       "0      t e s t     r u n          f i r s t  san diego la jolla        1   \n",
       "1    a d i t i       k k  s o p h o m o r e        portland usa        0   \n",
       "2  b a r b i e   g i r l        s e n i o r    sydney australia        2   \n",
       "\n",
       "   Hopeless  Restless  Depressed  Effort  Worthless  K6_Score       Pre-COVID  \\\n",
       "0         2         1          2       1          2         9      less often   \n",
       "1         0         0          0       0          0         0  about the same   \n",
       "2         1         1          1       1          1         7               1   \n",
       "\n",
       "  Unable to work Half capacity Reason for visit  \n",
       "0              2             1             test  \n",
       "1           None          None             None  \n",
       "2              2             0            covid  "
      ]
     },
     "execution_count": 3,
     "metadata": {},
     "output_type": "execute_result"
    }
   ],
   "source": [
    "# The dataframe with stored information. Meant to be accessed by opening the \n",
    "# file from directory but for presentation purposes you can look at it here too\n",
    "full_psych_df = pd.read_csv('Cogs18_dataframe.csv')\n",
    "full_psych_df"
   ]
  },
  {
   "cell_type": "markdown",
   "metadata": {},
   "source": [
    "## Tests"
   ]
  },
  {
   "cell_type": "code",
   "execution_count": 4,
   "metadata": {},
   "outputs": [
    {
     "name": "stdout",
     "output_type": "stream",
     "text": [
      "\u001b[1m============================= test session starts ==============================\u001b[0m\n",
      "platform darwin -- Python 3.8.5, pytest-6.1.1, py-1.9.0, pluggy-0.13.1\n",
      "rootdir: /Users/aditikumar/Documents/uc san diego/Cogs 18\n",
      "collected 20 items                                                             \u001b[0m\u001b[1m\n",
      "\n",
      "test_functions.py \u001b[32m.\u001b[0m\u001b[32m.\u001b[0m\u001b[32m.\u001b[0m\u001b[32m.\u001b[0m\u001b[32m.\u001b[0m\u001b[32m.\u001b[0m\u001b[32m.\u001b[0m\u001b[32m.\u001b[0m\u001b[32m.\u001b[0m\u001b[32m.\u001b[0m\u001b[32m.\u001b[0m\u001b[32m.\u001b[0m\u001b[32m.\u001b[0m\u001b[32m.\u001b[0m\u001b[32m.\u001b[0m\u001b[32m.\u001b[0m\u001b[32m.\u001b[0m\u001b[32m.\u001b[0m\u001b[32m.\u001b[0m\u001b[32m.\u001b[0m\u001b[32m                                   [100%]\u001b[0m\n",
      "\n",
      "\u001b[32m============================== \u001b[32m\u001b[1m20 passed\u001b[0m\u001b[32m in 1.65s\u001b[0m\u001b[32m ==============================\u001b[0m\n"
     ]
    }
   ],
   "source": [
    "# pytest\n",
    "!pytest test_functions.py"
   ]
  },
  {
   "cell_type": "markdown",
   "metadata": {},
   "source": [
    "#### Extra Credit (*optional*)\n",
    "\n",
    "Replace all of this text with a brief explanation (~3 sentences) of: \n",
    "1. I have had no previous Python knowledge before this course. This was a really fun project and I got to learn a lot!\n",
    "2. I learnt how to use pandas and how to collect user input and store in a database which keeps updating without losing earlier information. \n",
    "The overall format of the chatbot is also quite different to the A3 chatbot and required a lot of time to get working and iterate through all the questions correctly. Refactoring the code also took a lot of work with nested functions and I tried my best. I think what was particularly challenging for me was structuring the code. I used many different functions that were pieced together for the final result and since this chatbot isn't based on random user input but needs a specific outline to follow, it was hard to structure the flow with many pieces."
   ]
  },
  {
   "cell_type": "code",
   "execution_count": null,
   "metadata": {},
   "outputs": [],
   "source": []
  }
 ],
 "metadata": {
  "kernelspec": {
   "display_name": "Python 3",
   "language": "python",
   "name": "python3"
  },
  "language_info": {
   "codemirror_mode": {
    "name": "ipython",
    "version": 3
   },
   "file_extension": ".py",
   "mimetype": "text/x-python",
   "name": "python",
   "nbconvert_exporter": "python",
   "pygments_lexer": "ipython3",
   "version": "3.8.5"
  }
 },
 "nbformat": 4,
 "nbformat_minor": 2
}
